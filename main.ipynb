{
 "cells": [
  {
   "cell_type": "code",
   "execution_count": null,
   "metadata": {},
   "outputs": [],
   "source": [
    "import os\n",
    "import readline\n",
    "import pandas as pd\n",
    "import mysql.connector as sql\n",
    "import matplotlib.pyplot as plt\n",
    "from simple_term_menu import TerminalMenu"
   ]
  },
  {
   "cell_type": "code",
   "execution_count": null,
   "metadata": {},
   "outputs": [],
   "source": [
    "db = sql.connect(host=\"127.0.0.1\",port=\"3306\",\n",
    "user=\"root\",password=\"JoiAIAxom\")\n",
    "cursor = db.cursor()"
   ]
  },
  {
   "cell_type": "code",
   "execution_count": null,
   "metadata": {},
   "outputs": [],
   "source": [
    "cursor.execute(\"create database gunv;\")\n",
    "cursor.execute(\"use gunv;\")\n",
    "try: cursor.execute(\"drop table shootings;\")\n",
    "except : pass"
   ]
  },
  {
   "cell_type": "code",
   "execution_count": null,
   "metadata": {},
   "outputs": [],
   "source": [
    "cursor.execute('''create table if not exists shootings\n",
    "    (slno INTEGER PRIMARY KEY AUTO_INCREMENT, \n",
    "    casename varchar(50), \n",
    "    location varchar(50), \n",
    "    fatalities int, \n",
    "    injured int, \n",
    "    total_victims int, \n",
    "    place varchar(50) , \n",
    "    age int, \n",
    "    race varchar(10), \n",
    "    gender varchar(1), \n",
    "    type varchar(10), \n",
    "    year int(4));''')"
   ]
  },
  {
   "cell_type": "code",
   "execution_count": null,
   "metadata": {},
   "outputs": [],
   "source": [
    "df = pd.read_csv(r\"shootings.csv\")"
   ]
  },
  {
   "cell_type": "code",
   "execution_count": null,
   "metadata": {},
   "outputs": [],
   "source": [
    "def convertToSQL_Table():\n",
    "    for x,y in df.iterrows():\n",
    "        data = tuple(y)\n",
    "        cursor.execute(f'''insert into shootings \n",
    "        (casename, location, fatalities, injured, \n",
    "        total_victims, place, age, race, gender, type, \n",
    "        year) values(\"{data[0]}\",\"{data[1]}\",{data[2]},{data[3]},\n",
    "        {data[4]},\"{data[5]}\",{data[6]},\"{data[7]}\",\n",
    "        \"{data[8]}\",\"{data[9]}\",{data[10]});''')\n",
    "        db.commit()"
   ]
  },
  {
   "cell_type": "code",
   "execution_count": null,
   "metadata": {},
   "outputs": [],
   "source": [
    "convertToSQL_Table()"
   ]
  },
  {
   "cell_type": "code",
   "execution_count": null,
   "metadata": {},
   "outputs": [],
   "source": [
    "def convertToCSV():\n",
    "    cursor.execute('''select casename, location, \n",
    "    fatalities, injured, total_victims, place, \n",
    "    age, race, gender, type, year from shootings;''')\n",
    "    newdf = pd.DataFrame(cursor.fetchall(),\n",
    "    columns=['casename', 'location', 'fatalities', \n",
    "    'injured', 'total_victims', 'place', 'age', \n",
    "    'race', 'gender', 'type', 'year'])\n",
    "    newdf.to_csv(\"edited-data.csv\", index=False)\n"
   ]
  },
  {
   "cell_type": "code",
   "execution_count": null,
   "metadata": {},
   "outputs": [],
   "source": [
    "def editMenu():\n",
    "    print(\"Choose Action :\")\n",
    "    options = [\"Add Data\", \"Delete Row\", \"Edit Data\"]\n",
    "\n",
    "    terminal_menu = TerminalMenu(options,\n",
    "    menu_highlight_style=(\"fg_yellow\",))\n",
    "    index = terminal_menu.show()\n",
    "\n",
    "    if index == None : return\n",
    "    if index == 0: AddData()\n",
    "    if index == 1: DeleteRow()\n",
    "    if index == 2: EditData()\n"
   ]
  },
  {
   "cell_type": "code",
   "execution_count": null,
   "metadata": {},
   "outputs": [],
   "source": [
    "def AddData():\n",
    "    casename = input(\"Enter Casename : \")\n",
    "    print('\\033[1A' + '\\033[K', end='')\n",
    "    location = input(\"Enter Location : \")\n",
    "    print('\\033[1A' + '\\033[K', end='')\n",
    "    fatalities = input(\"Enter no of fatalities : \")\n",
    "    print('\\033[1A' + '\\033[K', end='')\n",
    "    injured = input(\"Enter no of injured : \")\n",
    "    print('\\033[1A' + '\\033[K', end='')\n",
    "    total_victims = input(\"Enter total no of victims : \")\n",
    "    print('\\033[1A' + '\\033[K', end='')\n",
    "    place = input(\"Enter place : \")\n",
    "    print('\\033[1A' + '\\033[K', end='')\n",
    "    age = input(\"Enter age of shooter : \")\n",
    "    print('\\033[1A' + '\\033[K', end='')\n",
    "    race = input(\"Enter race of shooter : \")\n",
    "    print('\\033[1A' + '\\033[K', end='')\n",
    "    gender = input(\"Enter gender : \")\n",
    "    print('\\033[1A' + '\\033[K', end='')\n",
    "    types = input(\"Enter type of shooting: \")\n",
    "    print('\\033[1A' + '\\033[K', end='')\n",
    "    year = input(\"Enter year : \")\n",
    "    print('\\033[1A' + '\\033[K', end='')\n",
    "    cursor.execute(f'''insert into shootings (casename, location, \n",
    "    fatalities, injured, total_victims, place, age, race, gender, \n",
    "    type, year) values(\"{casename}\",\"{location}\",{fatalities},{injured},\n",
    "    {total_victims},\"{place}\",{age},\"{race}\",\"{gender}\",\"{types}\",{year});''')\n",
    "    db.commit()"
   ]
  },
  {
   "cell_type": "code",
   "execution_count": null,
   "metadata": {},
   "outputs": [],
   "source": [
    "def EditData():\n",
    "    id = input(\"Enter the slno : \")\n",
    "    print(\"Select the field you want to update : \")\n",
    "    options = [\"casename\", \"location\", \"fatalities\", \"injured\", \n",
    "    \"total_victims\", \"place\", \"age\", \"race\", \n",
    "    \"gender\", \"type\", \"year\"]\n",
    "    terminal_menu = TerminalMenu(options,menu_highlight_style=(\"fg_yellow\",))\n",
    "    index = terminal_menu.show()\n",
    "    value = input(f\"Enter new Value for {options[index]} : \")\n",
    "    if index == 2 or index == 3 or index == 4 or index == 6 or index == 10 :\n",
    "        cursor.execute(f'''update table shootings set {options[index]} = {value} where slno = {id};''')\n",
    "        db.commit()\n",
    "        return\n",
    "    cursor.execute(f'''update shootings set {options[index]} = \"{value}\" where slno = {id};''')\n",
    "    db.commit()"
   ]
  },
  {
   "cell_type": "code",
   "execution_count": null,
   "metadata": {},
   "outputs": [],
   "source": [
    "def DeleteRow():\n",
    "    id = int(input(\"Enter Row number : \"))\n",
    "    cursor.execute(f\"delete from shootings where slno = {id};\")\n",
    "    db.commit()"
   ]
  },
  {
   "cell_type": "code",
   "execution_count": null,
   "metadata": {},
   "outputs": [],
   "source": [
    "def viewMenu():\n",
    "    print(\"Choose Action :\")\n",
    "    options = [\"No of people killed by criminals of each race\", \n",
    "    \"No of Shootings by Place\", \"No of Shootings by Year\", \n",
    "    \"Mass vs Spree\", \"Find cases by location\", \"List all Data\"]\n",
    "\n",
    "    terminal_menu = TerminalMenu(options,menu_highlight_style=(\"fg_yellow\",))\n",
    "    index = terminal_menu.show()\n",
    "\n",
    "    if index == None : return\n",
    "    if index == 0: CriminalsEthnicity()\n",
    "    if index == 1: ShootingsByPlace()\n",
    "    if index == 2: ShootingsByYear()\n",
    "    if index == 3: MassVsSpree()\n",
    "    if index == 4: FindCasesByLocation()\n",
    "    if index == 5: \n",
    "        cursor.execute(\"select * from shootings;\")\n",
    "        data = cursor.fetchall()\n",
    "        print(pd.DataFrame(data).to_string(index=False))\n"
   ]
  },
  {
   "cell_type": "code",
   "execution_count": null,
   "metadata": {},
   "outputs": [],
   "source": [
    "def FindCasesByLocation():\n",
    "    location = input(\"Enter the Location : \")\n",
    "    cursor.execute(f'''select casename, location, fatalities, injured, \n",
    "    total_victims, place, age, race, gender, type, year from shootings \n",
    "    where location like '%{location}%';''')\n",
    "    data = cursor.fetchall()\n",
    "    print(pd.DataFrame(data,columns=['casename', 'location', 'fatalities', \n",
    "    'injured', 'total_victims', 'place', 'age', 'race', 'gender',\n",
    "    'type', 'year']).to_string(index=False))"
   ]
  },
  {
   "cell_type": "code",
   "execution_count": null,
   "metadata": {},
   "outputs": [],
   "source": [
    "def MassVsSpree():\n",
    "    x1 = []\n",
    "    y1 = []\n",
    "    x2 = []\n",
    "    y2 = []\n",
    "\n",
    "    cursor.execute(\"select year, count(*), type ts from shootings group by year having ts ='Mass';\")\n",
    "    data1 = cursor.fetchall()\n",
    "    cursor.execute(\"select year, count(*), type ts from shootings group by year having ts ='Spree';\")\n",
    "    data2 = cursor.fetchall()\n",
    "\n",
    "    for i in data1: \n",
    "        x1.append(i[0])\n",
    "        y1.append(i[1])\n",
    "    for i in data2: \n",
    "        x2.append(i[0])\n",
    "        y2.append(i[1])\n",
    "    \n",
    "    plt.xlabel = \"Year\"\n",
    "    plt.ylabel = \"Frequency\"\n",
    "    plt.plot(x1,y1,label=\"Mass\",linestyle=\"-\")\n",
    "    plt.plot(x2,y2,label=\"Spree\",linestyle=\"--\")\n",
    "    plt.legend()\n",
    "    plt.show()\n"
   ]
  },
  {
   "cell_type": "code",
   "execution_count": null,
   "metadata": {},
   "outputs": [],
   "source": [
    "def CriminalsEthnicity():\n",
    "    x = []\n",
    "    y = []\n",
    "    cursor.execute(\"select race, sum(total_victims) as total from shootings group by race;\")\n",
    "    data = cursor.fetchall()\n",
    "    for i in data: \n",
    "        x.append(i[0])\n",
    "        y.append(i[1])\n",
    "    plt.barh(x,y)\n",
    "    plt.title(\"Number of people killed by people of each race\")\n",
    "    plt.xlabel(\"No of victims killed by the race\")\n",
    "    plt.ylabel(\"Race of the criminal\")\n",
    "    plt.show()\n"
   ]
  },
  {
   "cell_type": "code",
   "execution_count": null,
   "metadata": {},
   "outputs": [],
   "source": [
    "def ShootingsByPlace():\n",
    "    x = []\n",
    "    y = []\n",
    "    cursor.execute(\"select place, count(*) as total from shootings group by place;\")\n",
    "    data = cursor.fetchall()\n",
    "    for i in data: \n",
    "        x.append(i[0])\n",
    "        y.append(i[1])\n",
    "    plt.barh(x,y)\n",
    "    plt.title(\"Shootings by place\")\n",
    "    plt.xlabel(\"No of shootings\")\n",
    "    plt.ylabel(\"Place\")\n",
    "    plt.show()\n"
   ]
  },
  {
   "cell_type": "code",
   "execution_count": null,
   "metadata": {},
   "outputs": [],
   "source": [
    "def ShootingsByYear():\n",
    "    x = []\n",
    "    y = []\n",
    "    cursor.execute(\"select Year, count(*) as total from shootings group by year;\")\n",
    "    data = cursor.fetchall()\n",
    "    for i in data: \n",
    "        x.append(i[0])\n",
    "        y.append(i[1])\n",
    "    plt.bar(x,y)\n",
    "    plt.title(\"Number of Shootings per year\")\n",
    "    plt.xlabel(\"Year\")\n",
    "    plt.ylabel(\"No of Shootings\")\n",
    "    plt.show()\n"
   ]
  },
  {
   "cell_type": "code",
   "execution_count": null,
   "metadata": {},
   "outputs": [],
   "source": [
    "def clear():\n",
    "    try : os.system(\"clear\")\n",
    "    except : os.system(\"cls\")\n",
    "    return\n"
   ]
  },
  {
   "cell_type": "code",
   "execution_count": null,
   "metadata": {},
   "outputs": [],
   "source": [
    "def help():\n",
    "    print('''\n",
    "    \\033[33mFollowing are the commands you can type in this CLI :\n",
    "    > view // To open the view menu\n",
    "    > edit // To open the edit menu\n",
    "    > print // To get the edited data in csv format\n",
    "    > clear // To clear the terminal\n",
    "    > exit // To close this application\n",
    "    ''')\n"
   ]
  },
  {
   "cell_type": "code",
   "execution_count": null,
   "metadata": {},
   "outputs": [],
   "source": [
    "if __name__ == \"__main__\":\n",
    "\n",
    "    commandsList = {\n",
    "        'edit' : editMenu,\n",
    "        'view' : viewMenu,\n",
    "        'help' : help,\n",
    "        'clear' : clear,\n",
    "        'print' : convertToCSV,\n",
    "        'default' : lambda : print('\\033[31mType a Valid command')\n",
    "    }\n",
    "\n",
    "    print(''' \n",
    "    \\033[1;37mWelcome to the world of Crime !\n",
    "    \\033[0;37mThis CLI based application will help you analyze data of some selected gun violence case in the USA.\n",
    "\n",
    "    \\033[33mFollowing are the commands you can type in this CLI :\n",
    "    > view // To open the view menu\n",
    "    > edit // To open the edit menu\n",
    "    > print // To get the edited data in csv format\n",
    "    > clear // To clear the terminal\n",
    "    > exit // To close this application\n",
    "    > help // To open the help menu\n",
    "\n",
    "    ''')\n",
    "\n",
    "    while True:\n",
    "        cm = input(\"\\033[1;34mλ \\033[0;37m\")\n",
    "        if cm==\"exit\" : break\n",
    "        try: commandsList.get(cm)()\n",
    "        except Exception as e:\n",
    "            commandsList.get('default')()"
   ]
  }
 ],
 "metadata": {
  "language_info": {
   "name": "python"
  }
 },
 "nbformat": 4,
 "nbformat_minor": 2
}
